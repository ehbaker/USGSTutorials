{
 "cells": [
  {
   "cell_type": "markdown",
   "metadata": {},
   "source": [
    "A Short Intro to Python and Pandas\n",
    "===\n",
    "\n",
    "##### Using USGS Benchmark Glacier Release Phase 1 Data\n",
    "Adapted from '10 minutes to Pandas' : http://pandas.pydata.org/pandas-docs/stable/10min.html"
   ]
  },
  {
   "cell_type": "markdown",
   "metadata": {},
   "source": [
    "**To use this tutorial, either**:\n",
    "* Download the Short_Intro_to_Python_and_Pandas.ipynb file to your local machine, and open thru Anaconda and Jupyter Notebook from there, OR:\n",
    "\n",
    "* Open a new Jupter Notebook, and copy-paste the commands you want to run over to a new location yourself. Git hub does not support execution of Python in-line (aka right here)."
   ]
  },
  {
   "cell_type": "markdown",
   "metadata": {},
   "source": [
    "**_Important_**: To execute code in a cell, hit `shift` and  `enter`.\n",
    "\n",
    "Results of the code in that cell then appear below. Pretty neat, eh?"
   ]
  },
  {
   "cell_type": "markdown",
   "metadata": {},
   "source": [
    "Import **pandas** module. Comes pre-installed with Anaconda distribution of Python."
   ]
  },
  {
   "cell_type": "code",
   "execution_count": 29,
   "metadata": {
    "collapsed": true
   },
   "outputs": [],
   "source": [
    "import pandas as pd #the 'as pd' portion means we can refer to module w/o typing full name (just pd)"
   ]
  },
  {
   "cell_type": "markdown",
   "metadata": {},
   "source": [
    "Create series of numbers (or dates), save to object"
   ]
  },
  {
   "cell_type": "code",
   "execution_count": 33,
   "metadata": {
    "collapsed": false
   },
   "outputs": [],
   "source": [
    "s=[1,2,3,4,5,2000000000, 'A']"
   ]
  },
  {
   "cell_type": "code",
   "execution_count": 34,
   "metadata": {
    "collapsed": true
   },
   "outputs": [],
   "source": [
    "dates=pd.date_range('20140102', periods=6)"
   ]
  },
  {
   "cell_type": "markdown",
   "metadata": {},
   "source": [
    "See an object you created"
   ]
  },
  {
   "cell_type": "code",
   "execution_count": 35,
   "metadata": {
    "collapsed": false
   },
   "outputs": [
    {
     "name": "stdout",
     "output_type": "stream",
     "text": [
      "[1, 2, 3, 4, 5, 2000000000, 'A']\n"
     ]
    }
   ],
   "source": [
    "print(s)"
   ]
  },
  {
   "cell_type": "markdown",
   "metadata": {},
   "source": [
    "Check size and type of an object"
   ]
  },
  {
   "cell_type": "code",
   "execution_count": 38,
   "metadata": {
    "collapsed": false
   },
   "outputs": [
    {
     "name": "stdout",
     "output_type": "stream",
     "text": [
      "<type 'list'>\n",
      "7\n"
     ]
    }
   ],
   "source": [
    "print(type(s)) #kind of object understood by python\n",
    "print(len(s)) #length of list: here we have a single series with length 6"
   ]
  },
  {
   "cell_type": "markdown",
   "metadata": {},
   "source": [
    "Read in an external CSV file (here, existing Mass Balance data)"
   ]
  },
  {
   "cell_type": "code",
   "execution_count": 40,
   "metadata": {
    "collapsed": false
   },
   "outputs": [],
   "source": [
    "df=pd.read_csv('https://raw.githubusercontent.com/ehbaker/Ice2ODocs/master/data/Gulkana_mbInput.txt', sep ='\\t')"
   ]
  },
  {
   "cell_type": "code",
   "execution_count": 43,
   "metadata": {
    "collapsed": false
   },
   "outputs": [
    {
     "data": {
      "text/html": [
       "<div>\n",
       "<table border=\"1\" class=\"dataframe\">\n",
       "  <thead>\n",
       "    <tr style=\"text-align: right;\">\n",
       "      <th></th>\n",
       "      <th>balance_year</th>\n",
       "      <th>site_name</th>\n",
       "      <th>date_1</th>\n",
       "      <th>date_2</th>\n",
       "      <th>z</th>\n",
       "      <th>winter</th>\n",
       "      <th>annual</th>\n",
       "      <th>winter_ablation(-)</th>\n",
       "      <th>summer_accumulation(+)</th>\n",
       "    </tr>\n",
       "  </thead>\n",
       "  <tbody>\n",
       "    <tr>\n",
       "      <th>0</th>\n",
       "      <td>1966</td>\n",
       "      <td>A</td>\n",
       "      <td>4/23/66</td>\n",
       "      <td>9/3/66</td>\n",
       "      <td>617</td>\n",
       "      <td>0.77</td>\n",
       "      <td>-3.62</td>\n",
       "      <td>NaN</td>\n",
       "      <td>0.00</td>\n",
       "    </tr>\n",
       "    <tr>\n",
       "      <th>1</th>\n",
       "      <td>1966</td>\n",
       "      <td>B</td>\n",
       "      <td>4/23/66</td>\n",
       "      <td>10/24/66</td>\n",
       "      <td>1084</td>\n",
       "      <td>1.01</td>\n",
       "      <td>-0.74</td>\n",
       "      <td>NaN</td>\n",
       "      <td>0.26</td>\n",
       "    </tr>\n",
       "    <tr>\n",
       "      <th>2</th>\n",
       "      <td>1966</td>\n",
       "      <td>C</td>\n",
       "      <td>4/23/66</td>\n",
       "      <td>10/24/66</td>\n",
       "      <td>1307</td>\n",
       "      <td>2.06</td>\n",
       "      <td>1.07</td>\n",
       "      <td>NaN</td>\n",
       "      <td>0.46</td>\n",
       "    </tr>\n",
       "    <tr>\n",
       "      <th>3</th>\n",
       "      <td>1967</td>\n",
       "      <td>A</td>\n",
       "      <td>5/26/67</td>\n",
       "      <td>10/4/67</td>\n",
       "      <td>616</td>\n",
       "      <td>0.39</td>\n",
       "      <td>-4.95</td>\n",
       "      <td>-1.30</td>\n",
       "      <td>0.00</td>\n",
       "    </tr>\n",
       "    <tr>\n",
       "      <th>4</th>\n",
       "      <td>1967</td>\n",
       "      <td>B</td>\n",
       "      <td>4/4/67</td>\n",
       "      <td>10/1/67</td>\n",
       "      <td>1083</td>\n",
       "      <td>0.88</td>\n",
       "      <td>NaN</td>\n",
       "      <td>0.00</td>\n",
       "      <td>NaN</td>\n",
       "    </tr>\n",
       "    <tr>\n",
       "      <th>5</th>\n",
       "      <td>1967</td>\n",
       "      <td>C</td>\n",
       "      <td>4/2/67</td>\n",
       "      <td>10/1/67</td>\n",
       "      <td>1307</td>\n",
       "      <td>1.95</td>\n",
       "      <td>NaN</td>\n",
       "      <td>0.00</td>\n",
       "      <td>NaN</td>\n",
       "    </tr>\n",
       "    <tr>\n",
       "      <th>6</th>\n",
       "      <td>1968</td>\n",
       "      <td>A</td>\n",
       "      <td>4/4/68</td>\n",
       "      <td>8/20/68</td>\n",
       "      <td>615</td>\n",
       "      <td>0.88</td>\n",
       "      <td>-3.08</td>\n",
       "      <td>-0.14</td>\n",
       "      <td>0.00</td>\n",
       "    </tr>\n",
       "    <tr>\n",
       "      <th>7</th>\n",
       "      <td>1968</td>\n",
       "      <td>B</td>\n",
       "      <td>6/5/68</td>\n",
       "      <td>8/21/68</td>\n",
       "      <td>1083</td>\n",
       "      <td>1.62</td>\n",
       "      <td>-0.95</td>\n",
       "      <td>0.00</td>\n",
       "      <td>0.00</td>\n",
       "    </tr>\n",
       "    <tr>\n",
       "      <th>8</th>\n",
       "      <td>1968</td>\n",
       "      <td>C</td>\n",
       "      <td>6/6/68</td>\n",
       "      <td>10/10/68</td>\n",
       "      <td>1307</td>\n",
       "      <td>2.36</td>\n",
       "      <td>0.78</td>\n",
       "      <td>0.00</td>\n",
       "      <td>0.34</td>\n",
       "    </tr>\n",
       "    <tr>\n",
       "      <th>9</th>\n",
       "      <td>1969</td>\n",
       "      <td>A</td>\n",
       "      <td>4/13/69</td>\n",
       "      <td>9/16/69</td>\n",
       "      <td>615</td>\n",
       "      <td>0.62</td>\n",
       "      <td>-2.08</td>\n",
       "      <td>NaN</td>\n",
       "      <td>0.00</td>\n",
       "    </tr>\n",
       "  </tbody>\n",
       "</table>\n",
       "</div>"
      ],
      "text/plain": [
       "   balance_year site_name   date_1    date_2     z  winter  annual  \\\n",
       "0          1966         A  4/23/66    9/3/66   617    0.77   -3.62   \n",
       "1          1966         B  4/23/66  10/24/66  1084    1.01   -0.74   \n",
       "2          1966         C  4/23/66  10/24/66  1307    2.06    1.07   \n",
       "3          1967         A  5/26/67   10/4/67   616    0.39   -4.95   \n",
       "4          1967         B   4/4/67   10/1/67  1083    0.88     NaN   \n",
       "5          1967         C   4/2/67   10/1/67  1307    1.95     NaN   \n",
       "6          1968         A   4/4/68   8/20/68   615    0.88   -3.08   \n",
       "7          1968         B   6/5/68   8/21/68  1083    1.62   -0.95   \n",
       "8          1968         C   6/6/68  10/10/68  1307    2.36    0.78   \n",
       "9          1969         A  4/13/69   9/16/69   615    0.62   -2.08   \n",
       "\n",
       "   winter_ablation(-)  summer_accumulation(+)  \n",
       "0                 NaN                    0.00  \n",
       "1                 NaN                    0.26  \n",
       "2                 NaN                    0.46  \n",
       "3               -1.30                    0.00  \n",
       "4                0.00                     NaN  \n",
       "5                0.00                     NaN  \n",
       "6               -0.14                    0.00  \n",
       "7                0.00                    0.00  \n",
       "8                0.00                    0.34  \n",
       "9                 NaN                    0.00  "
      ]
     },
     "execution_count": 43,
     "metadata": {},
     "output_type": "execute_result"
    }
   ],
   "source": [
    "df[0:10] #This prints out the top 10 rows of the data frame (which are row indexes 0-9!)"
   ]
  },
  {
   "cell_type": "markdown",
   "metadata": {},
   "source": [
    "**OK, we have this great stake data into Python ... now what??**\n",
    "\n",
    "We can check what methods are available to act on an object by using dot notation and tab completion. \n",
    "\n",
    "Wait, what? Try it! Put your cursor in the cell below, and press the `tab` key. A list pops up of the different built-in functions that can act on that object. Pretty neat! "
   ]
  },
  {
   "cell_type": "code",
   "execution_count": 44,
   "metadata": {
    "collapsed": false
   },
   "outputs": [
    {
     "ename": "SyntaxError",
     "evalue": "invalid syntax (<ipython-input-44-d230d845cd15>, line 1)",
     "output_type": "error",
     "traceback": [
      "\u001b[0;36m  File \u001b[0;32m\"<ipython-input-44-d230d845cd15>\"\u001b[0;36m, line \u001b[0;32m1\u001b[0m\n\u001b[0;31m    df.\u001b[0m\n\u001b[0m       ^\u001b[0m\n\u001b[0;31mSyntaxError\u001b[0m\u001b[0;31m:\u001b[0m invalid syntax\n"
     ]
    }
   ],
   "source": [
    "df."
   ]
  },
  {
   "cell_type": "code",
   "execution_count": 46,
   "metadata": {
    "collapsed": false
   },
   "outputs": [
    {
     "name": "stdout",
     "output_type": "stream",
     "text": [
      "Index([u'balance_year', u'site_name', u'date_1', u'date_2', u'z', u'winter',\n",
      "       u'annual', u'winter_ablation(-)', u'summer_accumulation(+)'],\n",
      "      dtype='object')\n"
     ]
    }
   ],
   "source": [
    "print(df.columns)"
   ]
  },
  {
   "cell_type": "code",
   "execution_count": 68,
   "metadata": {
    "collapsed": false
   },
   "outputs": [
    {
     "data": {
      "text/plain": [
       "1373"
      ]
     },
     "execution_count": 68,
     "metadata": {},
     "output_type": "execute_result"
    }
   ],
   "source": [
    "#Let's get into the data a bit\n",
    "#Pull out elecation\n",
    "elevations=df['z']\n",
    "#Find the max elevation\n",
    "elevations.max(axis=0)"
   ]
  },
  {
   "cell_type": "markdown",
   "metadata": {},
   "source": [
    "You can see the functions inside a module in much the same way (e.g. \"pd. tab\")"
   ]
  },
  {
   "cell_type": "code",
   "execution_count": null,
   "metadata": {
    "collapsed": true
   },
   "outputs": [],
   "source": [
    "pd."
   ]
  },
  {
   "cell_type": "markdown",
   "metadata": {},
   "source": [
    "I personally think it is confusing that some functions are called with dot notation from objects (e.g. `df.columns`), while others are called independently of the object, and act upon it (e.g. `append(6, s)` )."
   ]
  },
  {
   "cell_type": "markdown",
   "metadata": {},
   "source": [
    "**Have questions? Ask Python itself!!: ** use a question mark"
   ]
  },
  {
   "cell_type": "code",
   "execution_count": 53,
   "metadata": {
    "collapsed": false
   },
   "outputs": [],
   "source": [
    "pd.read_csv?"
   ]
  },
  {
   "cell_type": "markdown",
   "metadata": {},
   "source": [
    "Also, feel free to ping me, or check out the wide world of internet tutorials."
   ]
  },
  {
   "cell_type": "markdown",
   "metadata": {
    "collapsed": true
   },
   "source": [
    "**Another hot tip**: to launch a console window simply run:"
   ]
  },
  {
   "cell_type": "code",
   "execution_count": 2,
   "metadata": {
    "collapsed": false
   },
   "outputs": [],
   "source": [
    "%qtconsole"
   ]
  },
  {
   "cell_type": "markdown",
   "metadata": {},
   "source": [
    "You have to find the window that this launched in, but it is there somewhere on your screen. Test by typing `pd` into the console, and checking that the table is printed."
   ]
  }
 ],
 "metadata": {
  "anaconda-cloud": {},
  "kernelspec": {
   "display_name": "Python [default]",
   "language": "python",
   "name": "python2"
  },
  "language_info": {
   "codemirror_mode": {
    "name": "ipython",
    "version": 2
   },
   "file_extension": ".py",
   "mimetype": "text/x-python",
   "name": "python",
   "nbconvert_exporter": "python",
   "pygments_lexer": "ipython2",
   "version": "2.7.12"
  }
 },
 "nbformat": 4,
 "nbformat_minor": 1
}
